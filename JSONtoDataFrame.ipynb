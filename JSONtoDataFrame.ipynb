{
 "cells": [
  {
   "cell_type": "code",
   "execution_count": 2,
   "id": "3c9db072",
   "metadata": {},
   "outputs": [],
   "source": [
    "import json"
   ]
  },
  {
   "cell_type": "code",
   "execution_count": 18,
   "id": "09f29191",
   "metadata": {},
   "outputs": [],
   "source": [
    "with open('D:\\Python Scripts/JSON_Example.json') as f:\n",
    "  data = json.load(f)"
   ]
  },
  {
   "cell_type": "code",
   "execution_count": 19,
   "id": "984e4996",
   "metadata": {},
   "outputs": [
    {
     "data": {
      "text/plain": [
       "[{'userId': 1, 'id': 1, 'title': 'Testando JSON', 'completed': False},\n",
       " {'userId': 2,\n",
       "  'id': 3,\n",
       "  'title': 'itens JSON separando em colunas',\n",
       "  'completed': True},\n",
       " {'userId': 5,\n",
       "  'id': 2,\n",
       "  'title': 'Observe que este e um exemplo simples',\n",
       "  'completed': False},\n",
       " {'userId': 3,\n",
       "  'id': 5,\n",
       "  'title': 'Agora tente aprimorar por conta, adicionando heranÃ§a',\n",
       "  'completed': True}]"
      ]
     },
     "execution_count": 19,
     "metadata": {},
     "output_type": "execute_result"
    }
   ],
   "source": [
    "data"
   ]
  },
  {
   "cell_type": "code",
   "execution_count": 20,
   "id": "06ff4a22",
   "metadata": {},
   "outputs": [],
   "source": [
    "import pandas as pd\n",
    "df = pd.DataFrame(columns=[\"UserID\", \"ID\", \"Title\", \"Competed\"])"
   ]
  },
  {
   "cell_type": "code",
   "execution_count": 21,
   "id": "c871e894",
   "metadata": {},
   "outputs": [],
   "source": [
    "for i in range (0, len(data)):\n",
    "    currentItem = (data[i])\n",
    "    df.loc[i] = [data[i][\"userId\"], data[i][\"id\"], data[i][\"title\"], data[i][\"completed\"]]"
   ]
  },
  {
   "cell_type": "code",
   "execution_count": 22,
   "id": "3331d35f",
   "metadata": {},
   "outputs": [
    {
     "data": {
      "text/html": [
       "<div>\n",
       "<style scoped>\n",
       "    .dataframe tbody tr th:only-of-type {\n",
       "        vertical-align: middle;\n",
       "    }\n",
       "\n",
       "    .dataframe tbody tr th {\n",
       "        vertical-align: top;\n",
       "    }\n",
       "\n",
       "    .dataframe thead th {\n",
       "        text-align: right;\n",
       "    }\n",
       "</style>\n",
       "<table border=\"1\" class=\"dataframe\">\n",
       "  <thead>\n",
       "    <tr style=\"text-align: right;\">\n",
       "      <th></th>\n",
       "      <th>UserID</th>\n",
       "      <th>ID</th>\n",
       "      <th>Title</th>\n",
       "      <th>Competed</th>\n",
       "    </tr>\n",
       "  </thead>\n",
       "  <tbody>\n",
       "    <tr>\n",
       "      <th>0</th>\n",
       "      <td>1</td>\n",
       "      <td>1</td>\n",
       "      <td>Testando JSON</td>\n",
       "      <td>False</td>\n",
       "    </tr>\n",
       "    <tr>\n",
       "      <th>1</th>\n",
       "      <td>2</td>\n",
       "      <td>3</td>\n",
       "      <td>itens JSON separando em colunas</td>\n",
       "      <td>True</td>\n",
       "    </tr>\n",
       "    <tr>\n",
       "      <th>2</th>\n",
       "      <td>5</td>\n",
       "      <td>2</td>\n",
       "      <td>Observe que este e um exemplo simples</td>\n",
       "      <td>False</td>\n",
       "    </tr>\n",
       "    <tr>\n",
       "      <th>3</th>\n",
       "      <td>3</td>\n",
       "      <td>5</td>\n",
       "      <td>Agora tente aprimorar por conta, adicionando h...</td>\n",
       "      <td>True</td>\n",
       "    </tr>\n",
       "  </tbody>\n",
       "</table>\n",
       "</div>"
      ],
      "text/plain": [
       "  UserID ID                                              Title Competed\n",
       "0      1  1                                      Testando JSON    False\n",
       "1      2  3                    itens JSON separando em colunas     True\n",
       "2      5  2              Observe que este e um exemplo simples    False\n",
       "3      3  5  Agora tente aprimorar por conta, adicionando h...     True"
      ]
     },
     "execution_count": 22,
     "metadata": {},
     "output_type": "execute_result"
    }
   ],
   "source": [
    "df"
   ]
  },
  {
   "cell_type": "code",
   "execution_count": null,
   "id": "d0a9c3b2",
   "metadata": {},
   "outputs": [],
   "source": []
  }
 ],
 "metadata": {
  "kernelspec": {
   "display_name": "Python 3",
   "language": "python",
   "name": "python3"
  },
  "language_info": {
   "codemirror_mode": {
    "name": "ipython",
    "version": 3
   },
   "file_extension": ".py",
   "mimetype": "text/x-python",
   "name": "python",
   "nbconvert_exporter": "python",
   "pygments_lexer": "ipython3",
   "version": "3.8.8"
  }
 },
 "nbformat": 4,
 "nbformat_minor": 5
}
